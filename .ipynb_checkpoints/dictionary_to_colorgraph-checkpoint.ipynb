{
 "cells": [
  {
   "cell_type": "code",
   "execution_count": 33,
   "metadata": {
    "colab": {
     "base_uri": "https://localhost:8080/",
     "height": 270
    },
    "id": "lMWrfzfwNFXC",
    "outputId": "d5ad253e-b680-4321-b138-07c285487e72"
   },
   "outputs": [
    {
     "name": "stdout",
     "output_type": "stream",
     "text": [
      "None\n"
     ]
    },
    {
     "data": {
      "image/png": "[encoded data removed]",
      "text/plain": [
       "<Figure size 432x288 with 1 Axes>"
      ]
     },
     "metadata": {},
     "output_type": "display_data"
    }
   ],
   "source": [
    "import matplotlib.pyplot as plt\n",
    "import numpy as np\n",
    "\n",
    "\n",
    "def drawgraph(result):\n",
    "  emotions = {'fear': 'm', 'anger': 'r', 'anticipation': 'm', 'trust': 'g', 'surprise': 'y', 'positive': 'y', 'negative': 'r', 'sadness': 'b', 'disgust': 'g', 'joy': 'y'}\n",
    "  x = []\n",
    "  y = []\n",
    "  colors = []\n",
    "\n",
    "  for key in result:\n",
    "    x += [key]\n",
    "    y += [result[key]]\n",
    "    colors += emotions[key]\n",
    "    \n",
    "\n",
    "  plt.bar(x,y, color=colors, alpha=0.65)\n",
    "\n",
    "  plt.xticks([])\n",
    "  plt.yticks([])\n",
    "\n",
    "  plt.show\n",
    "\n",
    "print(drawgraph({'fear': 1, 'negative': 1, 'sadness': 1, 'anticipation': 1, 'joy': 1, 'positive': 2, 'surprise': 1, 'trust': 1, 'anger': 0, 'disgust': 0}))\n"
   ]
  }
 ],
 "metadata": {
  "colab": {
   "collapsed_sections": [],
   "provenance": []
  },
  "kernelspec": {
   "display_name": "Python 3 (ipykernel)",
   "language": "python",
   "name": "python3"
  },
  "language_info": {
   "codemirror_mode": {
    "name": "ipython",
    "version": 3
   },
   "file_extension": ".py",
   "mimetype": "text/x-python",
   "name": "python",
   "nbconvert_exporter": "python",
   "pygments_lexer": "ipython3",
   "version": "3.9.10"
  }
 },
 "nbformat": 4,
 "nbformat_minor": 1
}
